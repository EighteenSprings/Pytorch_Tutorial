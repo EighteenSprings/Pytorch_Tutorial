{
  "nbformat": 4,
  "nbformat_minor": 0,
  "metadata": {
    "colab": {
      "name": "DCGAN.ipynb",
      "provenance": [],
      "collapsed_sections": [],
      "mount_file_id": "1so0U49ugCby9bBgmXNdGU2zgQEyGGiqL",
      "authorship_tag": "ABX9TyM6FJCg9IIDP2dCR28Fitqs",
      "include_colab_link": true
    },
    "kernelspec": {
      "name": "python3",
      "display_name": "Python 3"
    },
    "language_info": {
      "name": "python"
    },
    "accelerator": "GPU"
  },
  "cells": [
    {
      "cell_type": "markdown",
      "metadata": {
        "id": "view-in-github",
        "colab_type": "text"
      },
      "source": [
        "<a href=\"https://colab.research.google.com/github/EighteenSprings/Pytorch_Tutorial/blob/main/DCGAN.ipynb\" target=\"_parent\"><img src=\"https://colab.research.google.com/assets/colab-badge.svg\" alt=\"Open In Colab\"/></a>"
      ]
    },
    {
      "cell_type": "code",
      "metadata": {
        "id": "tltCF2wBxj7o"
      },
      "source": [
        "import random\n",
        "import numpy as np\n",
        "import matplotlib.pyplot as plt\n",
        "%matplotlib inline"
      ],
      "execution_count": 57,
      "outputs": []
    },
    {
      "cell_type": "code",
      "metadata": {
        "id": "h9Mm0cbHxvT4"
      },
      "source": [
        "import torch\n",
        "import torch.nn as nn\n",
        "import torch.backends.cudnn as cudnn\n",
        "import torch.optim as optim"
      ],
      "execution_count": 58,
      "outputs": []
    },
    {
      "cell_type": "code",
      "metadata": {
        "colab": {
          "base_uri": "https://localhost:8080/"
        },
        "id": "bnfOaA0ayVKR",
        "outputId": "98b2baab-f018-4aca-b865-2a0292a9d7bf"
      },
      "source": [
        "manualSeed = random.randint(1, 10000)\n",
        "print(f'manualSeed: {manualSeed}')\n",
        "random.seed(manualSeed)\n",
        "torch.manual_seed(manualSeed)"
      ],
      "execution_count": 59,
      "outputs": [
        {
          "output_type": "stream",
          "text": [
            "manualSeed: 892\n"
          ],
          "name": "stdout"
        },
        {
          "output_type": "execute_result",
          "data": {
            "text/plain": [
              "<torch._C.Generator at 0x7f95f36a2710>"
            ]
          },
          "metadata": {
            "tags": []
          },
          "execution_count": 59
        }
      ]
    },
    {
      "cell_type": "code",
      "metadata": {
        "id": "P27dnDcszGlV"
      },
      "source": [
        "cudnn.benchmark = True\n",
        "device = torch.device('cuda' if torch.cuda.is_available() else 'cpu')"
      ],
      "execution_count": 60,
      "outputs": []
    },
    {
      "cell_type": "code",
      "metadata": {
        "colab": {
          "base_uri": "https://localhost:8080/"
        },
        "id": "X-8N6tlxzjtg",
        "outputId": "afaf6ebb-c965-4180-cf84-b215f3bc888a"
      },
      "source": [
        "# cifar10\n",
        "import os\n",
        "import torchvision.transforms as transforms\n",
        "import torchvision.datasets as dset\n",
        "\n",
        "# dataroot\n",
        "dataroot = 'data'\n",
        "imageSize = 64\n",
        "try:\n",
        "    os.mkdir(dataroot)\n",
        "except OSError:\n",
        "    pass\n",
        "\n",
        "dataset = dset.CIFAR10(root=dataroot, download=True,\n",
        "            transform=transforms.Compose([\n",
        "                transforms.Resize(imageSize),\n",
        "                transforms.ToTensor(),\n",
        "                transforms.Normalize((0.5, 0.5, 0.5), (0.5, 0.5, 0.5)),\n",
        "            ]))\n",
        "nc=3"
      ],
      "execution_count": 61,
      "outputs": [
        {
          "output_type": "stream",
          "text": [
            "Files already downloaded and verified\n"
          ],
          "name": "stdout"
        }
      ]
    },
    {
      "cell_type": "code",
      "metadata": {
        "id": "xgnUOGYaz1Rz"
      },
      "source": [
        "# number of gpu\n",
        "ngpu = 1\n",
        "# number of latent z\n",
        "nz = 100\n",
        "# number of generator features\n",
        "ngf = 64\n",
        "# number of discriminator features\n",
        "ndf = 64"
      ],
      "execution_count": 62,
      "outputs": []
    },
    {
      "cell_type": "code",
      "metadata": {
        "id": "Eny_VsTV04_i"
      },
      "source": [
        "# custom weights initialization called on netG and netD\n",
        "def weights_init(m):\n",
        "    classname = m.__class__.__name__\n",
        "    if classname.find('Conv') != -1:\n",
        "        torch.nn.init.normal_(m.weight, 0.0, 0.02)\n",
        "    elif classname.find('BatchNorm') != -1:\n",
        "        torch.nn.init.normal_(m.weight, 1.0, 0.02)\n",
        "        torch.nn.init.zeros_(m.bias)"
      ],
      "execution_count": 63,
      "outputs": []
    },
    {
      "cell_type": "code",
      "metadata": {
        "id": "IOqME1zH05zL"
      },
      "source": [
        "class Generator(nn.Module):\n",
        "    def __init__(self, ngpu):\n",
        "        super(Generator, self).__init__()\n",
        "        self.ngpu = ngpu\n",
        "        self.main = nn.Sequential(\n",
        "            # input is Z, going into a convolution\n",
        "            nn.ConvTranspose2d(     nz, ngf * 8, 4, 1, 0, bias=False),\n",
        "            nn.BatchNorm2d(ngf * 8),\n",
        "            nn.ReLU(True),\n",
        "            # state size. (ngf*8) x 4 x 4\n",
        "            nn.ConvTranspose2d(ngf * 8, ngf * 4, 4, 2, 1, bias=False),\n",
        "            nn.BatchNorm2d(ngf * 4),\n",
        "            nn.ReLU(True),\n",
        "            # state size. (ngf*4) x 8 x 8\n",
        "            nn.ConvTranspose2d(ngf * 4, ngf * 2, 4, 2, 1, bias=False),\n",
        "            nn.BatchNorm2d(ngf * 2),\n",
        "            nn.ReLU(True),\n",
        "            # state size. (ngf*2) x 16 x 16\n",
        "            nn.ConvTranspose2d(ngf * 2,     ngf, 4, 2, 1, bias=False),\n",
        "            nn.BatchNorm2d(ngf),\n",
        "            nn.ReLU(True),\n",
        "            # state size. (ngf) x 32 x 32\n",
        "            nn.ConvTranspose2d(    ngf,      nc, 4, 2, 1, bias=False),\n",
        "            nn.Tanh()\n",
        "            # state size. (nc) x 64 x 64\n",
        "        )\n",
        "\n",
        "    def forward(self, input):\n",
        "        if input.is_cuda and self.ngpu > 1:\n",
        "            output = nn.parallel.data_parallel(self.main, input, range(self.ngpu))\n",
        "        else:\n",
        "            output = self.main(input)\n",
        "        return output"
      ],
      "execution_count": 64,
      "outputs": []
    },
    {
      "cell_type": "code",
      "metadata": {
        "colab": {
          "base_uri": "https://localhost:8080/"
        },
        "id": "NPUZnzSQ1J33",
        "outputId": "a6eb5b43-92f3-4804-c2d6-dc9c0bb31f28"
      },
      "source": [
        "netG = Generator(ngpu).to(device)\n",
        "netG.apply(weights_init)\n",
        "print(netG)"
      ],
      "execution_count": 65,
      "outputs": [
        {
          "output_type": "stream",
          "text": [
            "Generator(\n",
            "  (main): Sequential(\n",
            "    (0): ConvTranspose2d(100, 512, kernel_size=(4, 4), stride=(1, 1), bias=False)\n",
            "    (1): BatchNorm2d(512, eps=1e-05, momentum=0.1, affine=True, track_running_stats=True)\n",
            "    (2): ReLU(inplace=True)\n",
            "    (3): ConvTranspose2d(512, 256, kernel_size=(4, 4), stride=(2, 2), padding=(1, 1), bias=False)\n",
            "    (4): BatchNorm2d(256, eps=1e-05, momentum=0.1, affine=True, track_running_stats=True)\n",
            "    (5): ReLU(inplace=True)\n",
            "    (6): ConvTranspose2d(256, 128, kernel_size=(4, 4), stride=(2, 2), padding=(1, 1), bias=False)\n",
            "    (7): BatchNorm2d(128, eps=1e-05, momentum=0.1, affine=True, track_running_stats=True)\n",
            "    (8): ReLU(inplace=True)\n",
            "    (9): ConvTranspose2d(128, 64, kernel_size=(4, 4), stride=(2, 2), padding=(1, 1), bias=False)\n",
            "    (10): BatchNorm2d(64, eps=1e-05, momentum=0.1, affine=True, track_running_stats=True)\n",
            "    (11): ReLU(inplace=True)\n",
            "    (12): ConvTranspose2d(64, 3, kernel_size=(4, 4), stride=(2, 2), padding=(1, 1), bias=False)\n",
            "    (13): Tanh()\n",
            "  )\n",
            ")\n"
          ],
          "name": "stdout"
        }
      ]
    },
    {
      "cell_type": "code",
      "metadata": {
        "id": "gjFbS6Ah1OOB"
      },
      "source": [
        "class Discriminator(nn.Module):\n",
        "    def __init__(self, ngpu):\n",
        "        super(Discriminator, self).__init__()\n",
        "        self.ngpu = ngpu\n",
        "        self.main = nn.Sequential(\n",
        "            # input is (nc) x 64 x 64\n",
        "            nn.Conv2d(nc, ndf, 4, 2, 1, bias=False),\n",
        "            nn.LeakyReLU(0.2, inplace=True),\n",
        "            # state size. (ndf) x 32 x 32\n",
        "            nn.Conv2d(ndf, ndf * 2, 4, 2, 1, bias=False),\n",
        "            nn.BatchNorm2d(ndf * 2),\n",
        "            nn.LeakyReLU(0.2, inplace=True),\n",
        "            # state size. (ndf*2) x 16 x 16\n",
        "            nn.Conv2d(ndf * 2, ndf * 4, 4, 2, 1, bias=False),\n",
        "            nn.BatchNorm2d(ndf * 4),\n",
        "            nn.LeakyReLU(0.2, inplace=True),\n",
        "            # state size. (ndf*4) x 8 x 8\n",
        "            nn.Conv2d(ndf * 4, ndf * 8, 4, 2, 1, bias=False),\n",
        "            nn.BatchNorm2d(ndf * 8),\n",
        "            nn.LeakyReLU(0.2, inplace=True),\n",
        "            # state size. (ndf*8) x 4 x 4\n",
        "            nn.Conv2d(ndf * 8, 1, 4, 1, 0, bias=False),\n",
        "            nn.Sigmoid()\n",
        "        )\n",
        "\n",
        "    def forward(self, input):\n",
        "        if input.is_cuda and self.ngpu > 1:\n",
        "            output = nn.parallel.data_parallel(self.main, input, range(self.ngpu))\n",
        "        else:\n",
        "            output = self.main(input)\n",
        "\n",
        "        return output.view(-1, 1).squeeze(1)"
      ],
      "execution_count": 66,
      "outputs": []
    },
    {
      "cell_type": "code",
      "metadata": {
        "colab": {
          "base_uri": "https://localhost:8080/"
        },
        "id": "Zb_mBYr11Un4",
        "outputId": "b6d3fcfc-ce1a-4306-ba5c-6847f1516469"
      },
      "source": [
        "netD = Discriminator(ngpu).to(device)\n",
        "netD.apply(weights_init)\n",
        "print(netD)"
      ],
      "execution_count": 67,
      "outputs": [
        {
          "output_type": "stream",
          "text": [
            "Discriminator(\n",
            "  (main): Sequential(\n",
            "    (0): Conv2d(3, 64, kernel_size=(4, 4), stride=(2, 2), padding=(1, 1), bias=False)\n",
            "    (1): LeakyReLU(negative_slope=0.2, inplace=True)\n",
            "    (2): Conv2d(64, 128, kernel_size=(4, 4), stride=(2, 2), padding=(1, 1), bias=False)\n",
            "    (3): BatchNorm2d(128, eps=1e-05, momentum=0.1, affine=True, track_running_stats=True)\n",
            "    (4): LeakyReLU(negative_slope=0.2, inplace=True)\n",
            "    (5): Conv2d(128, 256, kernel_size=(4, 4), stride=(2, 2), padding=(1, 1), bias=False)\n",
            "    (6): BatchNorm2d(256, eps=1e-05, momentum=0.1, affine=True, track_running_stats=True)\n",
            "    (7): LeakyReLU(negative_slope=0.2, inplace=True)\n",
            "    (8): Conv2d(256, 512, kernel_size=(4, 4), stride=(2, 2), padding=(1, 1), bias=False)\n",
            "    (9): BatchNorm2d(512, eps=1e-05, momentum=0.1, affine=True, track_running_stats=True)\n",
            "    (10): LeakyReLU(negative_slope=0.2, inplace=True)\n",
            "    (11): Conv2d(512, 1, kernel_size=(4, 4), stride=(1, 1), bias=False)\n",
            "    (12): Sigmoid()\n",
            "  )\n",
            ")\n"
          ],
          "name": "stdout"
        }
      ]
    },
    {
      "cell_type": "code",
      "metadata": {
        "id": "Nt4Z5MxA16ND"
      },
      "source": [
        "# batch_size = 64\n",
        "batchSize = 64\n",
        "\n",
        "criterion = nn.BCELoss()\n",
        "\n",
        "fixed_noise = torch.randn(batchSize, nz, 1, 1, device=device)\n",
        "real_label = 1\n",
        "fake_label = 0"
      ],
      "execution_count": 68,
      "outputs": []
    },
    {
      "cell_type": "code",
      "metadata": {
        "id": "y6jHpMZ22DWO"
      },
      "source": [
        "lr = 0.0002\n",
        "beta1 = 0.5\n",
        "\n",
        "optimizerD = optim.Adam(netD.parameters(), lr=lr, betas=(beta1, 0.999))\n",
        "optimizerG = optim.Adam(netG.parameters(), lr=lr, betas=(beta1, 0.999))"
      ],
      "execution_count": 69,
      "outputs": []
    },
    {
      "cell_type": "code",
      "metadata": {
        "colab": {
          "base_uri": "https://localhost:8080/"
        },
        "id": "nxbG4KmuEfQg",
        "outputId": "2f55d681-990a-4528-c8cc-4d79c58f6319"
      },
      "source": [
        "dataloader = torch.utils.data.DataLoader(dataset, batch_size=batchSize, shuffle=True, num_workers=4)"
      ],
      "execution_count": 70,
      "outputs": [
        {
          "output_type": "stream",
          "text": [
            "/usr/local/lib/python3.7/dist-packages/torch/utils/data/dataloader.py:477: UserWarning: This DataLoader will create 4 worker processes in total. Our suggested max number of worker in current system is 2, which is smaller than what this DataLoader is going to create. Please be aware that excessive worker creation might get DataLoader running slow or even freeze, lower the worker number to avoid potential slowness/freeze if necessary.\n",
            "  cpuset_checked))\n"
          ],
          "name": "stderr"
        }
      ]
    },
    {
      "cell_type": "code",
      "metadata": {
        "colab": {
          "base_uri": "https://localhost:8080/",
          "height": 281
        },
        "id": "EDmHcwnU2RQQ",
        "outputId": "e399f37c-027d-4401-8a86-3c68ad96736b"
      },
      "source": [
        "from IPython import display\n",
        "import torchvision.utils as vutils\n",
        "\n",
        "Epoches = 50\n",
        "\n",
        "outf = 'models'\n",
        "try:\n",
        "    os.mkdir(outf)\n",
        "except OSError:\n",
        "    pass\n",
        "\n",
        "errD_lst = []\n",
        "errG_lst = []\n",
        "\n",
        "for epoch in range(Epoches):\n",
        "    for i, data in enumerate(dataloader, 0):\n",
        "        ############################\n",
        "        # (1) Update D network: maximize log(D(x)) + log(1 - D(G(z)))\n",
        "        ###########################\n",
        "        # train with real\n",
        "        netD.zero_grad()\n",
        "        real = data[0].to(device)\n",
        "        batch_size = data[0].size(0)\n",
        "        label = torch.full((batch_size,), real_label, dtype=real.dtype, device=device)\n",
        "\n",
        "        output = netD(real)\n",
        "        errD_real = criterion(output, label)\n",
        "        errD_real.backward()\n",
        "        D_x = output.mean().item()\n",
        "\n",
        "        # train with fake\n",
        "        noise = torch.randn(batch_size, nz, 1, 1, device=device)\n",
        "        fake = netG(noise)\n",
        "        label.fill_(fake_label)\n",
        "        output = netD(fake.detach())\n",
        "        errD_fake = criterion(output, label)\n",
        "        errD_fake.backward()\n",
        "\n",
        "        D_G_z1 = output.mean().item()\n",
        "        errD = errD_real + errD_fake\n",
        "\n",
        "        optimizerD.step()\n",
        "\n",
        "        ############################\n",
        "        # (2) Update G network: maximize log(D(G(z)))\n",
        "        ###########################\n",
        "\n",
        "        netG.zero_grad()\n",
        "        label.fill_(real_label)  # fake labels are real for generator cost\n",
        "\n",
        "        output = netD(fake)\n",
        "        errG = criterion(output, label)\n",
        "        errG.backward()\n",
        "        D_G_z2 = output.mean().item()\n",
        "        optimizerG.step()\n",
        "\n",
        "        errD_lst.append(errD.item())\n",
        "        errG_lst.append(errG.item())\n",
        "\n",
        "        # print('[%d/%d][%d/%d] Loss_D: %.4f Loss_G: %.4f D(x): %.4f D(G(z)): %.4f / %.4f'\n",
        "        #       % (epoch, Epoches, i, len(dataloader),\n",
        "        #          errD.item(), errG.item(), D_x, D_G_z1, D_G_z2))\n",
        "        if i%100 == 0:\n",
        "            plt.ion()\n",
        "            plt.cla()\n",
        "            plt.plot(list(range(len(errD_lst))), errD_lst, label='errD')\n",
        "            plt.plot(list(range(len(errG_lst))), errG_lst, label='errG')\n",
        "            plt.title(f'[{epoch},{Epoches}],[{i},{len(dataloader)}],errD:{errD},errG:{errG}')\n",
        "            plt.legend()\n",
        "            plt.pause(0.5)\n",
        "\n",
        "            display.clear_output(wait=True)\n",
        "\n",
        "        if i % 100 == 0:\n",
        "            vutils.save_image(real,\n",
        "                    '%s/real_samples.png' % outf,\n",
        "                    normalize=True)\n",
        "            fake = netG(fixed_noise)\n",
        "            vutils.save_image(fake.detach(),\n",
        "                    '%s/fake_samples_epoch_%03d_iter_%03d.png' % (outf, epoch, i),\n",
        "                    normalize=True)\n",
        "\n",
        "    plt.ioff()\n",
        "    # plt.show()\n",
        "    \n",
        "\n",
        "    # do checkpointing\n",
        "    torch.save(netG.state_dict(), '%s/netG_epoch_%d.pth' % (outf, epoch))\n",
        "    torch.save(netD.state_dict(), '%s/netD_epoch_%d.pth' % (outf, epoch))"
      ],
      "execution_count": 73,
      "outputs": [
        {
          "output_type": "display_data",
          "data": {
            "image/png": "[encoded data removed]",
            "text/plain": [
              "<Figure size 432x288 with 1 Axes>"
            ]
          },
          "metadata": {
            "tags": [],
            "needs_background": "light"
          }
        }
      ]
    },
    {
      "cell_type": "code",
      "metadata": {
        "id": "jNkpdHM8Y6qd"
      },
      "source": [
        "png_list = [x for x in os.listdir('models') if x.endswith('png') and x.startswith('fake')]"
      ],
      "execution_count": 76,
      "outputs": []
    },
    {
      "cell_type": "code",
      "metadata": {
        "id": "8B6HHCX1ZMji"
      },
      "source": [
        "def compare(x,y):\n",
        "    x,y = x[:-4].split('_'), y[:-4].split('_')\n",
        "    x_epoch, x_iter = int(x[3]), int(x[5])\n",
        "    y_epoch, y_iter = int(y[3]), int(y[5])\n",
        "    if x_epoch != y_epoch:\n",
        "        return x_epoch - y_epoch\n",
        "    else:\n",
        "        return x_iter - y_iter"
      ],
      "execution_count": 81,
      "outputs": []
    },
    {
      "cell_type": "code",
      "metadata": {
        "id": "atbkCUpbZOd2"
      },
      "source": [
        "def cmp_to_key(mycmp):\n",
        "    'Convert a cmp= function into a key= function'\n",
        "    class K:\n",
        "        def __init__(self, obj, *args):\n",
        "            self.obj = obj\n",
        "        def __lt__(self, other):\n",
        "            return mycmp(self.obj, other.obj) < 0\n",
        "        def __gt__(self, other):\n",
        "            return mycmp(self.obj, other.obj) > 0\n",
        "        def __eq__(self, other):\n",
        "            return mycmp(self.obj, other.obj) == 0\n",
        "        def __le__(self, other):\n",
        "            return mycmp(self.obj, other.obj) <= 0\n",
        "        def __ge__(self, other):\n",
        "            return mycmp(self.obj, other.obj) >= 0\n",
        "        def __ne__(self, other):\n",
        "            return mycmp(self.obj, other.obj) != 0\n",
        "    return K\n",
        "\n",
        "png_list = sorted(png_list, key = cmp_to_key(compare))"
      ],
      "execution_count": 83,
      "outputs": []
    },
    {
      "cell_type": "code",
      "metadata": {
        "colab": {
          "base_uri": "https://localhost:8080/"
        },
        "id": "LBguBnydai8T",
        "outputId": "43ff1d05-3f27-402e-9a95-480661175da7"
      },
      "source": [
        "png_list[:10]"
      ],
      "execution_count": 84,
      "outputs": [
        {
          "output_type": "execute_result",
          "data": {
            "text/plain": [
              "['fake_samples_epoch_000_iter_000.png',\n",
              " 'fake_samples_epoch_000_iter_100.png',\n",
              " 'fake_samples_epoch_000_iter_200.png',\n",
              " 'fake_samples_epoch_000_iter_300.png',\n",
              " 'fake_samples_epoch_000_iter_400.png',\n",
              " 'fake_samples_epoch_000_iter_500.png',\n",
              " 'fake_samples_epoch_000_iter_600.png',\n",
              " 'fake_samples_epoch_000_iter_700.png',\n",
              " 'fake_samples_epoch_001_iter_000.png',\n",
              " 'fake_samples_epoch_001_iter_100.png']"
            ]
          },
          "metadata": {
            "tags": []
          },
          "execution_count": 84
        }
      ]
    },
    {
      "cell_type": "code",
      "metadata": {
        "id": "LLJI0rHEbRbv"
      },
      "source": [
        "import imageio\n",
        "\n",
        "\n",
        "def create_gif(image_list, gif_name, duration=0.35):\n",
        "    frames = []\n",
        "    for image_name in image_list:\n",
        "        frames.append(imageio.imread(image_name))\n",
        "    imageio.mimsave(gif_name, frames, 'GIF', duration=duration)\n",
        "    return"
      ],
      "execution_count": 85,
      "outputs": []
    },
    {
      "cell_type": "code",
      "metadata": {
        "id": "8raTUX0RbX0w"
      },
      "source": [
        "create_gif([os.path.join('models',x) for x in png_list], 'cifar10.gif', duration=0.01)"
      ],
      "execution_count": 90,
      "outputs": []
    },
    {
      "cell_type": "code",
      "metadata": {
        "id": "x-NFpGnAed4a"
      },
      "source": [
        "!tar cf models.tar models"
      ],
      "execution_count": 92,
      "outputs": []
    },
    {
      "cell_type": "code",
      "metadata": {
        "id": "1nPJ6tRqexf9"
      },
      "source": [
        "!tar zcf models.tar.gz models.tar"
      ],
      "execution_count": 93,
      "outputs": []
    },
    {
      "cell_type": "code",
      "metadata": {
        "id": "cVZ1gGq2e_3E"
      },
      "source": [
        "!cp models.tar.gz /content/drive/MyDrive/GAN/DCGAN\n",
        "!cp cifar10.gif /content/drive/MyDrive/GAN/DCGAN"
      ],
      "execution_count": 94,
      "outputs": []
    },
    {
      "cell_type": "code",
      "metadata": {
        "id": "G9tYKf79fkA-"
      },
      "source": [
        ""
      ],
      "execution_count": null,
      "outputs": []
    }
  ]
}